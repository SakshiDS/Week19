{
 "cells": [
  {
   "cell_type": "code",
   "execution_count": 1,
   "id": "2adb41d9",
   "metadata": {},
   "outputs": [],
   "source": [
    "import pandas as pd\n",
    "import numpy as np"
   ]
  },
  {
   "cell_type": "markdown",
   "id": "e56f425f",
   "metadata": {},
   "source": [
    "1. Take one of the supervised learning models you have built recently and apply at least\n",
    "three dimensionality reduction techniques to it (separately). Be sure to create a short\n",
    "summary of each technique you use. Indicate how each changed the model\n",
    "performance. Reference:\n",
    "https://machinelearningmastery.com/dimensionality-reduction-algorithms-with-python/"
   ]
  },
  {
   "cell_type": "code",
   "execution_count": 2,
   "id": "59e2d3be",
   "metadata": {},
   "outputs": [],
   "source": [
    "abalone_df = pd.read_csv(\"../Datasets/abalone/abalone.data\")\n",
    "abalone_df.columns = ['Sex','Length', 'Diameter', 'Height', 'Whole weight', 'Shucked weight', 'Viscera weight', 'Shell weight', 'Rings']"
   ]
  },
  {
   "cell_type": "code",
   "execution_count": 3,
   "id": "5aed3262",
   "metadata": {},
   "outputs": [],
   "source": [
    "# Preprocessing\n",
    "\n",
    "abalone_df = pd.get_dummies(abalone_df,prefix=[\"Sex\"], columns = [\"Sex\"], drop_first=True)\n",
    "\n",
    "from sklearn.pipeline import Pipeline\n",
    "from sklearn.preprocessing import StandardScaler\n",
    "from sklearn.impute import SimpleImputer\n",
    "from sklearn.model_selection import train_test_split\n",
    "\n",
    "pipe = Pipeline([\n",
    "        ('imputer', SimpleImputer(strategy=\"median\")),\n",
    "        ('scaler', StandardScaler()),\n",
    "    ])\n",
    "\n",
    "X = abalone_df.drop('Rings',axis=1)\n",
    "y = abalone_df['Rings']\n",
    "\n",
    "#train-test split\n",
    "X_train, X_test, y_train, y_test = train_test_split(X, y,test_size=0.3 ,random_state=25)\n",
    "\n",
    "X_train = pipe.fit_transform(X_train)"
   ]
  },
  {
   "cell_type": "markdown",
   "id": "e9c37d93",
   "metadata": {},
   "source": [
    "### SVD - Singular Value Decomposition\n",
    "The scikit-learn library provides the TruncatedSVD class implementation of Singular Value Decomposition that can be used as a dimensionality reduction data transform. The “n_components” argument can be set to configure the number of desired dimensions in the output of the transform."
   ]
  },
  {
   "cell_type": "code",
   "execution_count": 4,
   "id": "ba36f895",
   "metadata": {},
   "outputs": [
    {
     "name": "stdout",
     "output_type": "stream",
     "text": [
      "Best GridSearch params: KNeighborsRegressor(n_neighbors=20, weights='distance')\n",
      "RMSE : 3.044683136322494\n"
     ]
    },
    {
     "data": {
      "text/plain": [
       "2.3909188243628825"
      ]
     },
     "execution_count": 4,
     "metadata": {},
     "output_type": "execute_result"
    }
   ],
   "source": [
    "from sklearn.decomposition import TruncatedSVD\n",
    "from sklearn.neighbors import KNeighborsRegressor\n",
    "from sklearn.model_selection import GridSearchCV\n",
    "from sklearn.metrics import mean_absolute_error, mean_squared_error\n",
    "\n",
    "svd = TruncatedSVD(n_components=6)\n",
    "\n",
    "X_train_svd = svd.fit_transform(X_train)\n",
    "X_test_svd = svd.fit_transform(X_test)\n",
    "\n",
    "knr = KNeighborsRegressor()\n",
    "\n",
    "parameters = {\"n_neighbors\": range(2, 40),\n",
    "              \"weights\": [\"uniform\", \"distance\"]}\n",
    "\n",
    "gridsearch_knr = GridSearchCV(knr, parameters, cv=10)\n",
    "gridsearch_knr.fit(X_train_svd, y_train)\n",
    "\n",
    "print(\"Best GridSearch params:\", gridsearch_knr.best_estimator_)\n",
    "\n",
    "model_svd = gridsearch_knr.best_estimator_\n",
    "y_pred_svd = model_svd.predict(X_test_svd)\n",
    "print(\"RMSE :\",np.sqrt(mean_squared_error(y_test, y_pred_svd)))\n",
    "mean_absolute_error(y_test, y_pred_svd)"
   ]
  },
  {
   "cell_type": "markdown",
   "id": "2b86f7a3",
   "metadata": {},
   "source": [
    "### LDA - Linear Discriminant Analysis\n",
    "The scikit-learn library provides the LinearDiscriminantAnalysis class implementation of Linear Discriminant Analysis that can be used as a dimensionality reduction data transform. The “n_components” argument can be set to configure the number of desired dimensions in the output of the transform."
   ]
  },
  {
   "cell_type": "code",
   "execution_count": 5,
   "id": "b75417fc",
   "metadata": {},
   "outputs": [
    {
     "name": "stdout",
     "output_type": "stream",
     "text": [
      "Best GridSearch params: KNeighborsRegressor(n_neighbors=26, weights='distance')\n",
      "RMSE : 3.070055907197659\n"
     ]
    },
    {
     "data": {
      "text/plain": [
       "2.3248085118585498"
      ]
     },
     "execution_count": 5,
     "metadata": {},
     "output_type": "execute_result"
    }
   ],
   "source": [
    "from sklearn.discriminant_analysis import LinearDiscriminantAnalysis\n",
    "\n",
    "lda = LinearDiscriminantAnalysis(n_components=6)\n",
    "\n",
    "X_train_lda = lda.fit_transform(X_train, y_train)\n",
    "X_test_lda = lda.fit_transform(X_test, y_test)\n",
    "\n",
    "knr = KNeighborsRegressor()\n",
    "\n",
    "parameters = {\"n_neighbors\": range(2, 40),\n",
    "              \"weights\": [\"uniform\", \"distance\"]}\n",
    "\n",
    "gridsearch_knr = GridSearchCV(knr, parameters, cv=10)\n",
    "gridsearch_knr.fit(X_train_lda, y_train)\n",
    "\n",
    "print(\"Best GridSearch params:\", gridsearch_knr.best_estimator_)\n",
    "\n",
    "model_lda = gridsearch_knr.best_estimator_\n",
    "y_pred_lda = model_lda.predict(X_test_lda)\n",
    "print(\"RMSE :\",np.sqrt(mean_squared_error(y_test, y_pred_lda)))\n",
    "mean_absolute_error(y_test, y_pred_lda)"
   ]
  },
  {
   "cell_type": "markdown",
   "id": "98a243df",
   "metadata": {},
   "source": [
    "### PCA - Principal Component Analysis\n",
    "The scikit-learn library provides the PCA class implementation of Principal Component Analysis that can be used as a dimensionality reduction data transform. The “n_components” argument can be set to configure the number of desired dimensions in the output of the transform."
   ]
  },
  {
   "cell_type": "code",
   "execution_count": 6,
   "id": "0e823128",
   "metadata": {},
   "outputs": [
    {
     "name": "stdout",
     "output_type": "stream",
     "text": [
      "Best GridSearch params: KNeighborsRegressor(n_neighbors=20, weights='distance')\n",
      "RMSE : 2.9643870117890865\n"
     ]
    },
    {
     "data": {
      "text/plain": [
       "2.2754979607870673"
      ]
     },
     "execution_count": 6,
     "metadata": {},
     "output_type": "execute_result"
    }
   ],
   "source": [
    "from sklearn.decomposition import PCA\n",
    "\n",
    "pca = PCA(n_components = 6, random_state=25)\n",
    "\n",
    "X_train_pca = pca.fit_transform(X_train)\n",
    "X_test_pca = pca.fit_transform(X_test)\n",
    "\n",
    "knr = KNeighborsRegressor()\n",
    "\n",
    "parameters = {\"n_neighbors\": range(2, 40),\n",
    "              \"weights\": [\"uniform\", \"distance\"]}\n",
    "\n",
    "gridsearch_knr = GridSearchCV(knr, parameters, cv=10)\n",
    "gridsearch_knr.fit(X_train_pca, y_train)\n",
    "\n",
    "print(\"Best GridSearch params:\", gridsearch_knr.best_estimator_)\n",
    "\n",
    "model_pca = gridsearch_knr.best_estimator_\n",
    "y_pred_pca = model_pca.predict(X_test_pca)\n",
    "print(\"RMSE :\",np.sqrt(mean_squared_error(y_test, y_pred_pca)))\n",
    "mean_absolute_error(y_test, y_pred_pca)"
   ]
  },
  {
   "cell_type": "markdown",
   "id": "df32ef56",
   "metadata": {},
   "source": [
    "### 2. Write a function that will indicate if an inputted IPv4 address is accurate or not. IP addresses are valid if they have 4 values between 0 and 255 (inclusive), punctuated by periods.\n",
    "\n",
    "    Input 1:\n",
    "    2.33.245.5\n",
    "\n",
    "    Output 1:\n",
    "    True\n",
    "\n",
    "    Input 2:\n",
    "    12.345.67.89\n",
    "\n",
    "    Output 2:\n",
    "    False"
   ]
  },
  {
   "cell_type": "code",
   "execution_count": 7,
   "id": "48bbb3e1",
   "metadata": {},
   "outputs": [],
   "source": [
    "def IPv4_address(address):\n",
    "    \"\"\"Checking if the IP address is valid. First cheching if the address has 4 numeric parts seperated by period. \n",
    "    Then checking for address validity to check if each numeric part is less than or equal to 255 \"\"\"\n",
    "    \n",
    "    if address.count(\".\") != 3:\n",
    "        return False\n",
    "    elif address == \"\":\n",
    "        return False\n",
    "    else:\n",
    "        split_address = address.split(\".\")\n",
    "    \n",
    "    true_counter = 0\n",
    "    \n",
    "    for k in split_address:\n",
    "        if k.isnumeric() == False:\n",
    "            return False\n",
    "        elif int(k) > 255:\n",
    "            return False\n",
    "        else:\n",
    "            true_counter = true_counter + 1\n",
    "                   \n",
    "    if true_counter == 4:\n",
    "        return True        "
   ]
  },
  {
   "cell_type": "code",
   "execution_count": 8,
   "id": "8e9bef02",
   "metadata": {},
   "outputs": [
    {
     "data": {
      "text/plain": [
       "False"
      ]
     },
     "execution_count": 8,
     "metadata": {},
     "output_type": "execute_result"
    }
   ],
   "source": [
    "IPv4_address('12.256.67.89')"
   ]
  },
  {
   "cell_type": "code",
   "execution_count": 9,
   "id": "76679107",
   "metadata": {},
   "outputs": [
    {
     "data": {
      "text/plain": [
       "True"
      ]
     },
     "execution_count": 9,
     "metadata": {},
     "output_type": "execute_result"
    }
   ],
   "source": [
    "IPv4_address('2.66.245.5')"
   ]
  },
  {
   "cell_type": "code",
   "execution_count": null,
   "id": "1d248222",
   "metadata": {},
   "outputs": [],
   "source": []
  }
 ],
 "metadata": {
  "kernelspec": {
   "display_name": "Python 3 (ipykernel)",
   "language": "python",
   "name": "python3"
  },
  "language_info": {
   "codemirror_mode": {
    "name": "ipython",
    "version": 3
   },
   "file_extension": ".py",
   "mimetype": "text/x-python",
   "name": "python",
   "nbconvert_exporter": "python",
   "pygments_lexer": "ipython3",
   "version": "3.8.10"
  }
 },
 "nbformat": 4,
 "nbformat_minor": 5
}
